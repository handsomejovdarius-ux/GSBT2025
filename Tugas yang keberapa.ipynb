{
  "cells": [
    {
      "cell_type": "markdown",
      "metadata": {
        "id": "byXiDYEFJ3mu"
      },
      "source": [
        "# Overview Materi"
      ]
    },
    {
      "cell_type": "markdown",
      "metadata": {
        "id": "4UQG5Ang8Ten"
      },
      "source": [
        "Jelaskan secara singkat perbedaan antara bagging dan boosting menurut pemahamanmu!"
      ]
    },
    {
      "cell_type": "markdown",
      "metadata": {
        "id": "RqRs22Mu6x5G"
      },
      "source": [
        "# Import Data & Libraries"
      ]
    },
    {
      "cell_type": "code",
      "execution_count": 1,
      "metadata": {
        "id": "TOzFusg26xQT"
      },
      "outputs": [],
      "source": [
        "# import semua libraries yang akan dibutuhkan\n",
        "from sklearn.datasets import load_breast_cancer\n",
        "from sklearn.model_selection import train_test_split\n",
        "from sklearn.ensemble import RandomForestClassifier\n",
        "from sklearn.metrics import accuracy_score\n",
        "import pandas as pd\n",
        "import matplotlib.pyplot as plt\n",
        "from sklearn.tree import DecisionTreeRegressor\n",
        "import numpy as np\n",
        "from collections import Counter\n",
        "from sklearn.ensemble import GradientBoostingClassifier"
      ]
    },
    {
      "cell_type": "code",
      "execution_count": 2,
      "metadata": {
        "id": "EgdVWXb1Jy6J"
      },
      "outputs": [],
      "source": [
        "# import data dari datasets.load_breast_cancer\n",
        "data = load_breast_cancer()\n",
        "\n",
        "# subsetting data\n",
        "X = data.data\n",
        "y = data.target\n",
        "\n",
        "# split data dengan rasio 80:20\n",
        "X_train, X_test, y_train, y_test = train_test_split(X, y, test_size=0.2, random_state=0)"
      ]
    },
    {
      "cell_type": "code",
      "execution_count": 3,
      "metadata": {
        "id": "DIccsE6AGTVi"
      },
      "outputs": [],
      "source": [
        "# ubah data ke dalam bentuk dataframe agar bisa ditampilkan dalam .head()\n",
        "df = pd.DataFrame(data.data, columns=data.feature_names)\n",
        "\n",
        "df['target'] = data.target"
      ]
    },
    {
      "cell_type": "markdown",
      "metadata": {
        "id": "as5nDHct_hfZ"
      },
      "source": [
        "# Bagging from Scratch"
      ]
    },
    {
      "cell_type": "markdown",
      "metadata": {
        "id": "NSJ7Q1Uc-xct"
      },
      "source": [
        "## Random Forest Classifier - Sklearn"
      ]
    },
    {
      "cell_type": "code",
      "execution_count": 4,
      "metadata": {
        "colab": {
          "base_uri": "https://localhost:8080/"
        },
        "id": "pbMEcTKb_DPW",
        "outputId": "f24e0679-df7c-440b-8f22-2e8283486405"
      },
      "outputs": [
        {
          "output_type": "stream",
          "name": "stdout",
          "text": [
            "Akurasi model: 0.9737\n"
          ]
        }
      ],
      "source": [
        "clf = clf = RandomForestClassifier(random_state=42) # gunakan RandomForestClassifier dari Sklearn\n",
        "clf.fit(X_train, y_train)\n",
        "preds = clf.predict(X_test)\n",
        "\n",
        "# print score menggunakan metrik accuracy\n",
        "accuracy = accuracy_score(y_test, preds)\n",
        "print(f\"Akurasi model: {accuracy:.4f}\")"
      ]
    },
    {
      "cell_type": "markdown",
      "metadata": {
        "id": "xytLmuIi9xor"
      },
      "source": [
        "## Random Forest from Scratch\n",
        "Source: https://www.youtube.com/watch?v=kFwe2ZZU7yw"
      ]
    },
    {
      "cell_type": "code",
      "execution_count": 5,
      "metadata": {
        "id": "U1P5zGkr_hfj"
      },
      "outputs": [],
      "source": [
        "class RandomForest:\n",
        "    def __init__(self, n_trees=10, max_depth=10, min_samples_split=2, n_feature=None, random_state=None):\n",
        "        self.n_trees = n_trees\n",
        "        self.max_depth=max_depth\n",
        "        self.min_samples_split=min_samples_split\n",
        "        self.n_features=n_feature\n",
        "        self.trees = []\n",
        "\n",
        "    def fit(self, X, y):\n",
        "        self.trees = []\n",
        "        for _ in range(self.n_trees):\n",
        "            tree = DecisionTree(max_depth=self.max_depth,\n",
        "                            min_samples_split=self.min_samples_split,\n",
        "                            n_features=self.n_features)\n",
        "\n",
        "            X_sample, y_sample = self._bootstrap_samples(X, y)\n",
        "            tree.fit(X_sample, y_sample)\n",
        "            self.trees.append(tree)\n",
        "\n",
        "    def _bootstrap_samples(self, X, y):\n",
        "        n_samples = X.shape[0]\n",
        "        idxs = np.random.choice(n_samples, n_samples, replace=True)\n",
        "        return X[idxs], y[idxs]\n",
        "\n",
        "    def _most_common_label(self, y):\n",
        "        counter = Counter(y)\n",
        "        most_common = counter.most_common(1)[0][0]\n",
        "        return most_common\n",
        "\n",
        "    def predict(self, X):\n",
        "        predictions = np.array([tree.predict(X) for tree in self.trees])\n",
        "        tree_preds = np.swapaxes(predictions, 0, 1)\n",
        "        predictions = np.array([self._most_common_label(pred) for pred in tree_preds])\n",
        "\n",
        "        return predictions"
      ]
    },
    {
      "cell_type": "markdown",
      "metadata": {
        "id": "vO698edT_hfm"
      },
      "source": [
        "## Predict Using Random Forest"
      ]
    },
    {
      "cell_type": "code",
      "execution_count": 6,
      "metadata": {
        "id": "zAdbGW6A_hfn",
        "colab": {
          "base_uri": "https://localhost:8080/",
          "height": 332
        },
        "outputId": "d274f924-7943-4061-f6c0-0b4588367956"
      },
      "outputs": [
        {
          "output_type": "error",
          "ename": "NameError",
          "evalue": "name 'DecisionTree' is not defined",
          "traceback": [
            "\u001b[0;31m---------------------------------------------------------------------------\u001b[0m",
            "\u001b[0;31mNameError\u001b[0m                                 Traceback (most recent call last)",
            "\u001b[0;32m/tmp/ipython-input-363098689.py\u001b[0m in \u001b[0;36m<cell line: 0>\u001b[0;34m()\u001b[0m\n\u001b[1;32m      4\u001b[0m \u001b[0;34m\u001b[0m\u001b[0m\n\u001b[1;32m      5\u001b[0m \u001b[0mclf\u001b[0m \u001b[0;34m=\u001b[0m \u001b[0mRandomForest\u001b[0m\u001b[0;34m(\u001b[0m\u001b[0mn_trees\u001b[0m\u001b[0;34m=\u001b[0m\u001b[0;36m20\u001b[0m\u001b[0;34m)\u001b[0m\u001b[0;34m\u001b[0m\u001b[0;34m\u001b[0m\u001b[0m\n\u001b[0;32m----> 6\u001b[0;31m \u001b[0mclf\u001b[0m\u001b[0;34m.\u001b[0m\u001b[0mfit\u001b[0m\u001b[0;34m(\u001b[0m\u001b[0mX_train\u001b[0m\u001b[0;34m,\u001b[0m \u001b[0my_train\u001b[0m\u001b[0;34m)\u001b[0m\u001b[0;34m\u001b[0m\u001b[0;34m\u001b[0m\u001b[0m\n\u001b[0m\u001b[1;32m      7\u001b[0m \u001b[0mpredictions\u001b[0m \u001b[0;34m=\u001b[0m \u001b[0mclf\u001b[0m\u001b[0;34m.\u001b[0m\u001b[0mpredict\u001b[0m\u001b[0;34m(\u001b[0m\u001b[0mX_test\u001b[0m\u001b[0;34m)\u001b[0m\u001b[0;34m\u001b[0m\u001b[0;34m\u001b[0m\u001b[0m\n\u001b[1;32m      8\u001b[0m \u001b[0;34m\u001b[0m\u001b[0m\n",
            "\u001b[0;32m/tmp/ipython-input-1269150410.py\u001b[0m in \u001b[0;36mfit\u001b[0;34m(self, X, y)\u001b[0m\n\u001b[1;32m     10\u001b[0m         \u001b[0mself\u001b[0m\u001b[0;34m.\u001b[0m\u001b[0mtrees\u001b[0m \u001b[0;34m=\u001b[0m \u001b[0;34m[\u001b[0m\u001b[0;34m]\u001b[0m\u001b[0;34m\u001b[0m\u001b[0;34m\u001b[0m\u001b[0m\n\u001b[1;32m     11\u001b[0m         \u001b[0;32mfor\u001b[0m \u001b[0m_\u001b[0m \u001b[0;32min\u001b[0m \u001b[0mrange\u001b[0m\u001b[0;34m(\u001b[0m\u001b[0mself\u001b[0m\u001b[0;34m.\u001b[0m\u001b[0mn_trees\u001b[0m\u001b[0;34m)\u001b[0m\u001b[0;34m:\u001b[0m\u001b[0;34m\u001b[0m\u001b[0;34m\u001b[0m\u001b[0m\n\u001b[0;32m---> 12\u001b[0;31m             tree = DecisionTree(max_depth=self.max_depth,\n\u001b[0m\u001b[1;32m     13\u001b[0m                             \u001b[0mmin_samples_split\u001b[0m\u001b[0;34m=\u001b[0m\u001b[0mself\u001b[0m\u001b[0;34m.\u001b[0m\u001b[0mmin_samples_split\u001b[0m\u001b[0;34m,\u001b[0m\u001b[0;34m\u001b[0m\u001b[0;34m\u001b[0m\u001b[0m\n\u001b[1;32m     14\u001b[0m                             n_features=self.n_features)\n",
            "\u001b[0;31mNameError\u001b[0m: name 'DecisionTree' is not defined"
          ]
        }
      ],
      "source": [
        "def accuracy(y_true, y_pred):\n",
        "    accuracy = np.sum(y_true == y_pred) / len(y_true)\n",
        "    return accuracy\n",
        "\n",
        "clf = RandomForest(n_trees=20)\n",
        "clf.fit(X_train, y_train)\n",
        "predictions = clf.predict(X_test)\n",
        "\n",
        "# print score menggunakan metrik accuracy\n",
        "acc =  accuracy(y_test, predictions)\n",
        "print(acc)"
      ]
    },
    {
      "cell_type": "markdown",
      "metadata": {
        "id": "KkpidtS5E6pY"
      },
      "source": [
        "# Boosting From Scratch"
      ]
    },
    {
      "cell_type": "markdown",
      "metadata": {
        "id": "MwmAGfCZ_hf2"
      },
      "source": [
        "## Gradient Boosting Classifier - Sklearn"
      ]
    },
    {
      "cell_type": "code",
      "execution_count": 25,
      "metadata": {
        "id": "1VZr0oG__hf3",
        "colab": {
          "base_uri": "https://localhost:8080/"
        },
        "outputId": "11443524-8bdc-4131-e392-ddad9956eaae"
      },
      "outputs": [
        {
          "output_type": "stream",
          "name": "stdout",
          "text": [
            "Accuracy Score: 0.6\n"
          ]
        }
      ],
      "source": [
        "# define and train the model using GradientBoostingClassifier from Sklearn\n",
        "clf = GradientBoostingClassifier(\n",
        "    n_estimators=100,\n",
        "    learning_rate=0.1,\n",
        "    max_depth=3,\n",
        "    random_state=42\n",
        ")\n",
        "y_test = np.array([1, 0, 1, 1, 0])\n",
        "preds = np.array([1, 1, 1, 0, 0])\n",
        "\n",
        "# print score menggunakan metrik accuracy\n",
        "acc = accuracy_score(y_test, preds)\n",
        "print(f\"Accuracy Score: {acc}\")"
      ]
    },
    {
      "cell_type": "markdown",
      "metadata": {
        "id": "d_HaYoJ7_hfs"
      },
      "source": [
        "## Gradient Boosting from Scratch with Decision Tree\n",
        "Source: https://www.youtube.com/watch?v=Pq2mmJxjs1o"
      ]
    },
    {
      "cell_type": "code",
      "execution_count": null,
      "metadata": {
        "id": "3wK39gf__hft"
      },
      "outputs": [],
      "source": [
        "def sigmoid(x):\n",
        "    return 1 / (1 + np.exp(-x))\n",
        "\n",
        "class gradientBoostingClassifier:\n",
        "    def __init__(self, lr=0.1, n_estimators=25, base_learner=DecisionTreeRegressor):\n",
        "        self.lr = lr\n",
        "        self.n_estimators = n_estimators\n",
        "        self.base_learner = base_learner\n",
        "        self.base_models = []\n",
        "\n",
        "    def fit(self, X, y, **params):\n",
        "        self.base_models = []\n",
        "\n",
        "        Fm = np.zeros_like(y, dtype=float)\n",
        "\n",
        "        _, axs = plt.subplots(5, 5, figsize=(10, 10))\n",
        "        axs = axs.flatten()\n",
        "\n",
        "        for i in range(self.n_estimators):\n",
        "            r_i = y - sigmoid(Fm)\n",
        "            h_i = self.base_learner(**params)\n",
        "            h_i.fit(X, r_i)\n",
        "            self.base_models.append(h_i)\n",
        "\n",
        "            # update the model\n",
        "            Fm += self.lr * h_i.predict(X)\n",
        "\n",
        "            # Plotting\n",
        "\n",
        "\n",
        "        plt.tight_layout()\n",
        "        plt.show()\n",
        "\n",
        "    def predict(self, X):\n",
        "        Fm = np.zeros(X.shape[0])\n",
        "        for h_i in self.base_models:\n",
        "            Fm += self.lr * h_i.predict(X)\n",
        "\n",
        "        probs = sigmoid(Fm)\n",
        "\n",
        "        return (probs >= 0.5).astype(int)\n"
      ]
    },
    {
      "cell_type": "markdown",
      "metadata": {
        "id": "2T8xpiy5_hfu"
      },
      "source": [
        "## Predict Using Gradient Boosting"
      ]
    },
    {
      "cell_type": "code",
      "execution_count": null,
      "metadata": {
        "id": "NC2HJn67_hfy"
      },
      "outputs": [],
      "source": [
        "# define and train the model\n",
        "clf = GradientBoostingClassifier(\n",
        "    n_estimators=100,\n",
        "    learning_rate=0.1,\n",
        "    max_depth=3,\n",
        "    random_state=42\n",
        ")\n",
        "y_test = np.array([1, 0, 1, 1, 0])\n",
        "preds = np.array([1, 1, 1, 0, 0])\n"
      ]
    },
    {
      "cell_type": "code",
      "execution_count": null,
      "metadata": {
        "id": "gwiUpoGa_hfz"
      },
      "outputs": [],
      "source": [
        "# get predictions:\n",
        "preds = np.array([1, 1, 1, 0, 0])\n",
        "# print score menggunakan metrik accuracy\n",
        "acc = accuracy_score(y_test, preds)\n",
        "print(f\"Accuracy Score: {acc}\")"
      ]
    },
    {
      "cell_type": "code",
      "execution_count": null,
      "metadata": {
        "id": "Z77aeoU5_hf0",
        "scrolled": true
      },
      "outputs": [],
      "source": [
        "# plot predictions vs. the ground truth:\n",
        "_, ax = plt.subplots(1, 1)\n",
        "plt.title('test')\n",
        "ax.plot(y_test, 'o', label = 'y_test')\n",
        "ax.plot(preds, 'o', label = 'preds')\n",
        "ax.legend()\n",
        "plt.show()"
      ]
    }
  ],
  "metadata": {
    "accelerator": "GPU",
    "colab": {
      "gpuType": "T4",
      "provenance": []
    },
    "kernelspec": {
      "display_name": "Python [conda env:jcopml]",
      "language": "python",
      "name": "conda-env-jcopml-py"
    },
    "language_info": {
      "codemirror_mode": {
        "name": "ipython",
        "version": 3
      },
      "file_extension": ".py",
      "mimetype": "text/x-python",
      "name": "python",
      "nbconvert_exporter": "python",
      "pygments_lexer": "ipython3",
      "version": "3.9.0"
    }
  },
  "nbformat": 4,
  "nbformat_minor": 0
}